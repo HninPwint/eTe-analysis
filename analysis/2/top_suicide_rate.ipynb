{
 "cells": [
  {
   "cell_type": "code",
   "execution_count": null,
   "metadata": {},
   "outputs": [],
   "source": [
    "# This file focus on the analyzing the top suicide rate of different countries\n",
    "# 1. Find out the top 5 countries with highest youth suicide rate \n",
    "\n",
    "import os\n",
    "import math\n",
    "import pandas as pd\n",
    "import matplotlib.pyplot as plt\n",
    "\n",
    "import sys\n",
    "sys.path.append(os.path.abspath('..'))\n",
    "from common_lib.data_reader import SuicideDataReader, SuicideRawData, SuicideProcessedData"
   ]
  },
  {
   "cell_type": "code",
   "execution_count": null,
   "metadata": {},
   "outputs": [],
   "source": [
    "# define constant variable\n",
    "ALL_AGE_RANGES = [\"all_age\", \"80_above\", \"70to79\", \"60to69\", \"50to59\", \"40to49\", \"30to39\", \"20to29\", \"10to19\"]\n",
    "ALL_FACILITIES = [\"mental_hospitals\", \"health_units\", \"outpatient_facilities\", \"day_treatment\", \"residential_facilities\"]\n",
    "COLOR_FOR_SEX = {\n",
    "    \"Male\" : \"#0000AA\",\n",
    "    \"Female\" : \"#AA0000\",\n",
    "    \"Both sexes\" : \"#00AA00\"\n",
    "}"
   ]
  },
  {
   "cell_type": "code",
   "execution_count": null,
   "metadata": {},
   "outputs": [],
   "source": [
    "# ========= Getting Data =========\n",
    "\n",
    "data_reader = SuicideDataReader()\n",
    "\n",
    "suicide_rates_dataframe = data_reader.read_data(SuicideProcessedData.SUICIDE_RATES)\n",
    "print(suicide_rates_dataframe)\n",
    "\n",
    "country_facilities_dataframe = data_reader.read_data(SuicideProcessedData.FACILITIES)\n",
    "print(country_facilities_dataframe)\n",
    "\n",
    "gini_coef_dataframe = data_reader.read_data(SuicideRawData.SOCIOECONOMIC)\n",
    "print(gini_coef_dataframe)"
   ]
  },
  {
   "cell_type": "code",
   "execution_count": null,
   "metadata": {},
   "outputs": [],
   "source": [
    "# ========= Prepare Data =========\n",
    "# join country facilities and gini coef to suicde rate data\n",
    "suicide_rates_facilities_dataframe = suicide_rates_dataframe.merge(country_facilities_dataframe, how=\"left\", left_on=\"country\", right_on=\"country\")\n",
    "\n",
    "suicide_rates_facilities_dataframe = suicide_rates_facilities_dataframe.merge(gini_coef_dataframe, how=\"left\", left_on=\"country\", right_on=\"country\")\n",
    "\n",
    "\n",
    "# distribution of suicide rate of all countries\n",
    "for facility in ALL_FACILITIES:\n",
    "    suicide_rates_facilities_dataframe[\"{0}_cat\".format(facility)] = pd.qcut(suicide_rates_facilities_dataframe[facility], \n",
    "                                                                     q = 10, \n",
    "                                                                     labels = False, \n",
    "                                                                     precision = 0)\n",
    "\n",
    "\n",
    "suicide_rates_facilities_both_sexes_dataframe = suicide_rates_facilities_dataframe[suicide_rates_facilities_dataframe[\"sex\"] == \"Both sexes\"]\n",
    "\n",
    "# Sorting and pick the first 5\n",
    "# top_five_youth_suicide_rates_dataframe = suicide_rates_facilities_dataframe.sort_values(by=[\"10to19\"], ascending=False).head(5)\n",
    "\n",
    "# # print the results\n",
    "# top_five_youth_suicide_rates_dataframe"
   ]
  },
  {
   "cell_type": "code",
   "execution_count": null,
   "metadata": {},
   "outputs": [],
   "source": [
    "# ========= plot graph =========\n",
    "top_suicide_rates_country_dataframe = suicide_rates_facilities_dataframe[suicide_rates_facilities_dataframe[\"10to19\"] > 10].sort_values(by=[\"10to19\"], ascending=False)\n",
    "\n",
    "#top suicide rate plot\n",
    "plt.figure(figsize=(20,10))\n",
    "plt.bar(top_suicide_rates_country_dataframe[\"country\"], top_suicide_rates_country_dataframe[\"10to19\"])\n",
    "plt.title(\"Top Youth Suicide Rate Countries \\n rate > 10\")\n",
    "plt.xlabel(\"Country\")\n",
    "plt.ylabel(\"Suicide Rate (%)\")\n",
    "plt.xticks(rotation=90)\n",
    "plt.show()"
   ]
  },
  {
   "cell_type": "code",
   "execution_count": null,
   "metadata": {},
   "outputs": [],
   "source": [
    "# Check correlation\n",
    "suicide_rates_facilities_both_sexes_dataframe[ALL_FACILITIES+[\"gini_coef\", \"poverty_199\", \"poverty_320\"]].corr()"
   ]
  },
  {
   "cell_type": "code",
   "execution_count": null,
   "metadata": {},
   "outputs": [],
   "source": [
    "# plot the distribution of different facilities\n",
    "for facility_2 in ALL_FACILITIES:\n",
    "    plt.figure(figsize=(20,10))\n",
    "    fig, axs = plt.subplots(nrows=2, ncols=3, constrained_layout=True)\n",
    "    fig.figsize=(20,10)\n",
    "    facilities_index = 0\t# use for control the location of the plot\n",
    "    for facility in ALL_FACILITIES:\n",
    "        x_index = math.floor(facilities_index / 3)\n",
    "        y_index = facilities_index % 3\n",
    "        subplot = axs[x_index, y_index]\n",
    "        subplot.scatter(x = suicide_rates_facilities_dataframe[suicide_rates_facilities_dataframe[\"sex\"] == \"Both sexes\"][\"{0}\".format(facility_2)], \n",
    "                        y = suicide_rates_facilities_dataframe[suicide_rates_facilities_dataframe[\"sex\"] == \"Both sexes\"][\"{0}\".format(facility)], \n",
    "                        color = \"#00AA00\", \n",
    "                        s = 5)\n",
    "        subplot.set_title(\"{0}\".format(facility))\n",
    "        \n",
    "        plt.suptitle(\"{0} facilities\".format(facility_2))\n",
    "        facilities_index = facilities_index + 1\n",
    "\n",
    "    plt.show()"
   ]
  },
  {
   "cell_type": "code",
   "execution_count": null,
   "metadata": {
    "scrolled": false
   },
   "outputs": [],
   "source": [
    "# plot the suicide rate vs different facilities for analysis\n",
    "ALL_SEX = top_suicide_rates_country_dataframe[\"sex\"].unique()\n",
    "\n",
    "\n",
    "\n",
    "for sex in ALL_SEX:\n",
    "    sex_color = COLOR_FOR_SEX[sex]\n",
    "    for age_range in ALL_AGE_RANGES:\n",
    "        plt.figure(figsize=(20,10))\n",
    "        fig, axs = plt.subplots(nrows=2, ncols=3, constrained_layout=True)\n",
    "        fig.figsize=(20,10)\n",
    "        facilities_index = 0\t# use for control the location of the plot\n",
    "        for facility in ALL_FACILITIES:\n",
    "            x_index = math.floor(facilities_index / 3)\n",
    "            y_index = facilities_index % 3\n",
    "            subplot = axs[x_index, y_index]\n",
    "            subplot.scatter(x = suicide_rates_facilities_both_sexes_dataframe[age_range], \n",
    "                            y = suicide_rates_facilities_both_sexes_dataframe[facility], \n",
    "                            color = sex_color, \n",
    "                            s = 5)\n",
    "            subplot.set_title(\"{0}\".format(facility))\n",
    "            #subplot.xlabel(\"{0} {1} suicide Rate (%)\".format(sex, age_range))\n",
    "            #subplot.ylabel(\"{0}\".format(facility))\n",
    "            plt.suptitle(\"{0} {1} vs different facilities\".format(sex, age_range))\n",
    "            facilities_index = facilities_index + 1\n",
    "\n",
    "        plt.show()"
   ]
  },
  {
   "cell_type": "code",
   "execution_count": null,
   "metadata": {
    "scrolled": false
   },
   "outputs": [],
   "source": [
    "for sex in ALL_SEX:\n",
    "    sex_color = COLOR_FOR_SEX[sex]\n",
    "    for age_range in ALL_AGE_RANGES:\n",
    "        plt.figure(figsize=(20,10))\n",
    "        fig, axs = plt.subplots(nrows=2, ncols=3, constrained_layout=True)\n",
    "        fig.figsize=(20,10)\n",
    "        facilities_index = 0\t# use for control the location of the plot\n",
    "        for facility in ALL_FACILITIES:\n",
    "            x_index = math.floor(facilities_index / 3)\n",
    "            y_index = facilities_index % 3\n",
    "            subplot = axs[x_index, y_index]\n",
    "            subplot.scatter(x = suicide_rates_facilities_dataframe[suicide_rates_facilities_dataframe[\"sex\"] == sex][age_range], \n",
    "                            y = suicide_rates_facilities_dataframe[suicide_rates_facilities_dataframe[\"sex\"] == sex][\"{0}_cat\".format(facility)], \n",
    "                            color = sex_color, \n",
    "                            s = 5)\n",
    "            subplot.set_title(\"{0}\".format(facility))\n",
    "            #subplot.xlabel(\"{0} {1} suicide Rate (%)\".format(sex, age_range))\n",
    "            #subplot.ylabel(\"{0}\".format(facility))\n",
    "            plt.suptitle(\"{0} {1} vs different facilities\".format(sex, age_range))\n",
    "            facilities_index = facilities_index + 1\n",
    "\n",
    "        plt.show()"
   ]
  },
  {
   "cell_type": "code",
   "execution_count": null,
   "metadata": {},
   "outputs": [],
   "source": [
    "# check soc-econ vs facilities\n",
    "test_variable = \"gini_coef\"\n",
    "test_variable = \"poverty_199\"\n",
    "plt.figure(figsize=(20,10))\n",
    "fig, axs = plt.subplots(nrows=2, ncols=3, constrained_layout=True)\n",
    "fig.figsize=(20,10)\n",
    "facilities_index = 0\t# use for control the location of the plot\n",
    "for facility in ALL_FACILITIES:\n",
    "    x_index = math.floor(facilities_index / 3)\n",
    "    y_index = facilities_index % 3\n",
    "    subplot = axs[x_index, y_index]\n",
    "    \n",
    "    subplot.scatter(x = suicide_rates_facilities_both_sexes_dataframe[test_variable], \n",
    "                y = suicide_rates_facilities_both_sexes_dataframe[\"{0}\".format(facility)], \n",
    "                color = \"#00AA00\", \n",
    "                s = 5)\n",
    "    #plt.xlabel(test_variable)\n",
    "    #plt.ylabel(\"facility\")\n",
    "    subplot.set_title(\"{0}\".format(facility))\n",
    "    #plt.title(\"{0} vs gini coef\".format(facility))\n",
    "    facilities_index = facilities_index + 1\n",
    "plt.show()"
   ]
  },
  {
   "cell_type": "code",
   "execution_count": null,
   "metadata": {},
   "outputs": [],
   "source": [
    "# facilites distribution\n",
    "plt.figure(figsize=(40,20))\n",
    "fig, axs = plt.subplots(nrows=2, ncols=3, constrained_layout=True)\n",
    "fig.figsize=(40,20)\n",
    "facilities_index = 0\t# use for control the location of the plot\n",
    "for facility in ALL_FACILITIES:\n",
    "    x_index = math.floor(facilities_index / 3)\n",
    "    y_index = facilities_index % 3\n",
    "    subplot = axs[x_index, y_index]\n",
    "    \n",
    "    subplot.hist(x = suicide_rates_facilities_both_sexes_dataframe[\"{0}\".format(facility)], \n",
    "                 bins = 25,\n",
    "                color = \"#00AA00\")\n",
    "    #plt.xlabel(test_variable)\n",
    "    #plt.ylabel(\"facility\")\n",
    "    subplot.set_title(\"{0}\".format(facility))\n",
    "    #plt.title(\"{0} vs gini coef\".format(facility))\n",
    "    facilities_index = facilities_index + 1\n",
    "plt.show()"
   ]
  },
  {
   "cell_type": "code",
   "execution_count": null,
   "metadata": {},
   "outputs": [],
   "source": []
  }
 ],
 "metadata": {
  "kernelspec": {
   "display_name": "Python 3",
   "language": "python",
   "name": "python3"
  },
  "language_info": {
   "codemirror_mode": {
    "name": "ipython",
    "version": 3
   },
   "file_extension": ".py",
   "mimetype": "text/x-python",
   "name": "python",
   "nbconvert_exporter": "python",
   "pygments_lexer": "ipython3",
   "version": "3.7.4"
  }
 },
 "nbformat": 4,
 "nbformat_minor": 2
}
