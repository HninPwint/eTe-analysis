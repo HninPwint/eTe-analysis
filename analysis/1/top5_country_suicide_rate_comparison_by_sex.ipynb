{
 "cells": [
  {
   "cell_type": "markdown",
   "metadata": {},
   "source": [
    "# Male and Female Difference in Top Highest Suicide Rate Countries\n",
    "This code is to analyse the male and female comparison in top 5 countries with hight suicide rates\n",
    "\n",
    "catplot (for categorical data) from Seaborn library is used for visualisation "
   ]
  },
  {
   "cell_type": "code",
   "execution_count": 5,
   "metadata": {},
   "outputs": [],
   "source": [
    "# ========= Import the packages =========\n",
    "import os\n",
    "import pandas as pd\n",
    "import matplotlib.pyplot as plt\n",
    "import numpy as np\n",
    "import seaborn as sns\n",
    "import sys\n",
    "\n",
    "# Importing Customised Common Data Reader Class\n",
    "sys.path.append(os.path.abspath('..'))\n",
    "from common_lib.data_reader import SuicideDataReader, SuicideProcessedData"
   ]
  },
  {
   "cell_type": "code",
   "execution_count": 6,
   "metadata": {},
   "outputs": [
    {
     "name": "stdout",
     "output_type": "stream",
     "text": [
      "         country         sex  80_above  70to79  60to69  50to59  40to49  \\\n",
      "0    Afghanistan  Both sexes      42.0    11.0     5.5     5.6     6.6   \n",
      "1    Afghanistan        Male      70.4    20.9     9.8     9.3    10.5   \n",
      "2    Afghanistan      Female      20.1     2.3     1.4     1.6     2.3   \n",
      "3        Albania  Both sexes      16.3     8.3     6.0     7.8     9.1   \n",
      "4        Albania        Male      23.2    11.9     8.1    11.4    13.5   \n",
      "..           ...         ...       ...     ...     ...     ...     ...   \n",
      "544       Zambia        Male     152.1    79.0    38.7    27.3    17.0   \n",
      "545       Zambia      Female      31.2    26.4    16.0    11.2     6.9   \n",
      "546     Zimbabwe  Both sexes     205.7    81.5    41.3    29.4    19.2   \n",
      "547     Zimbabwe        Male     285.0   111.5    62.8    47.0    30.1   \n",
      "548     Zimbabwe      Female     152.4    59.4    26.4    16.0     9.4   \n",
      "\n",
      "     30to39  20to29  10to19  all_age  \n",
      "0       9.2    10.2     3.1     93.2  \n",
      "1      15.1    16.3     4.8    157.1  \n",
      "2       2.7     3.5     1.2     35.1  \n",
      "3       6.1     6.5     5.0     65.1  \n",
      "4       8.8     6.3     3.1     86.3  \n",
      "..      ...     ...     ...      ...  \n",
      "544    13.3    12.3     3.9    343.6  \n",
      "545     4.6     4.2     1.6    102.1  \n",
      "546    13.7    11.3     4.6    406.7  \n",
      "547    22.8    19.1     6.4    584.7  \n",
      "548     5.5     3.8     2.7    275.6  \n",
      "\n",
      "[549 rows x 11 columns]\n"
     ]
    }
   ],
   "source": [
    "# ========= Getting Data =========\n",
    "\n",
    "# Use common Data Reader Class to load data\n",
    "data_reader = SuicideDataReader()\n",
    "\n",
    "# Load Suicide Rate data\n",
    "suicide_rate_data = data_reader.read_data(SuicideProcessedData.SUICIDE_RATES)\n",
    "print(suicide_rate_data)"
   ]
  },
  {
   "cell_type": "code",
   "execution_count": 9,
   "metadata": {},
   "outputs": [
    {
     "data": {
      "text/html": [
       "<div>\n",
       "<style scoped>\n",
       "    .dataframe tbody tr th:only-of-type {\n",
       "        vertical-align: middle;\n",
       "    }\n",
       "\n",
       "    .dataframe tbody tr th {\n",
       "        vertical-align: top;\n",
       "    }\n",
       "\n",
       "    .dataframe thead th {\n",
       "        text-align: right;\n",
       "    }\n",
       "</style>\n",
       "<table border=\"1\" class=\"dataframe\">\n",
       "  <thead>\n",
       "    <tr style=\"text-align: right;\">\n",
       "      <th></th>\n",
       "      <th>country</th>\n",
       "      <th>sex</th>\n",
       "      <th>age</th>\n",
       "      <th>suicide_rate</th>\n",
       "    </tr>\n",
       "  </thead>\n",
       "  <tbody>\n",
       "    <tr>\n",
       "      <td>118</td>\n",
       "      <td>Côte d'Ivoire</td>\n",
       "      <td>Male</td>\n",
       "      <td>80_above</td>\n",
       "      <td>202.6</td>\n",
       "    </tr>\n",
       "    <tr>\n",
       "      <td>119</td>\n",
       "      <td>Côte d'Ivoire</td>\n",
       "      <td>Female</td>\n",
       "      <td>80_above</td>\n",
       "      <td>52.0</td>\n",
       "    </tr>\n",
       "    <tr>\n",
       "      <td>280</td>\n",
       "      <td>Lesotho</td>\n",
       "      <td>Male</td>\n",
       "      <td>80_above</td>\n",
       "      <td>80.8</td>\n",
       "    </tr>\n",
       "    <tr>\n",
       "      <td>281</td>\n",
       "      <td>Lesotho</td>\n",
       "      <td>Female</td>\n",
       "      <td>80_above</td>\n",
       "      <td>210.4</td>\n",
       "    </tr>\n",
       "    <tr>\n",
       "      <td>358</td>\n",
       "      <td>Nigeria</td>\n",
       "      <td>Male</td>\n",
       "      <td>80_above</td>\n",
       "      <td>130.7</td>\n",
       "    </tr>\n",
       "    <tr>\n",
       "      <td>...</td>\n",
       "      <td>...</td>\n",
       "      <td>...</td>\n",
       "      <td>...</td>\n",
       "      <td>...</td>\n",
       "    </tr>\n",
       "    <tr>\n",
       "      <td>4202</td>\n",
       "      <td>Nigeria</td>\n",
       "      <td>Female</td>\n",
       "      <td>10to19</td>\n",
       "      <td>3.7</td>\n",
       "    </tr>\n",
       "    <tr>\n",
       "      <td>4351</td>\n",
       "      <td>Uganda</td>\n",
       "      <td>Male</td>\n",
       "      <td>10to19</td>\n",
       "      <td>6.1</td>\n",
       "    </tr>\n",
       "    <tr>\n",
       "      <td>4352</td>\n",
       "      <td>Uganda</td>\n",
       "      <td>Female</td>\n",
       "      <td>10to19</td>\n",
       "      <td>4.6</td>\n",
       "    </tr>\n",
       "    <tr>\n",
       "      <td>4390</td>\n",
       "      <td>Zimbabwe</td>\n",
       "      <td>Male</td>\n",
       "      <td>10to19</td>\n",
       "      <td>6.4</td>\n",
       "    </tr>\n",
       "    <tr>\n",
       "      <td>4391</td>\n",
       "      <td>Zimbabwe</td>\n",
       "      <td>Female</td>\n",
       "      <td>10to19</td>\n",
       "      <td>2.7</td>\n",
       "    </tr>\n",
       "  </tbody>\n",
       "</table>\n",
       "<p>80 rows × 4 columns</p>\n",
       "</div>"
      ],
      "text/plain": [
       "            country     sex       age  suicide_rate\n",
       "118   Côte d'Ivoire    Male  80_above         202.6\n",
       "119   Côte d'Ivoire  Female  80_above          52.0\n",
       "280         Lesotho    Male  80_above          80.8\n",
       "281         Lesotho  Female  80_above         210.4\n",
       "358         Nigeria    Male  80_above         130.7\n",
       "...             ...     ...       ...           ...\n",
       "4202        Nigeria  Female    10to19           3.7\n",
       "4351         Uganda    Male    10to19           6.1\n",
       "4352         Uganda  Female    10to19           4.6\n",
       "4390       Zimbabwe    Male    10to19           6.4\n",
       "4391       Zimbabwe  Female    10to19           2.7\n",
       "\n",
       "[80 rows x 4 columns]"
      ]
     },
     "execution_count": 9,
     "metadata": {},
     "output_type": "execute_result"
    }
   ],
   "source": [
    "# ========= Prepare Data =========\n",
    "\n",
    "# Find Top 5 countries of highest suicide rate in 'all_age' and \"both sexes\"\n",
    "# And Male/ Female - Age distribution \n",
    "top_5_suicide_rate_bothsex = suicide_rate_data[(suicide_rate_data['sex'] == \"Both sexes\")].nlargest(5, \"all_age\")\n",
    "#print(top_5_suicide_rate_bothsex)\n",
    "\n",
    "suicide_rate_tidy_data_both_sex = pd.melt(suicide_rate_data, id_vars=['country', 'sex'], var_name='age',value_name='suicide_rate')\n",
    "suicide_rate_separatesex = suicide_rate_tidy_data_both_sex[(suicide_rate_tidy_data_both_sex['sex'] != 'Both sexes') & (suicide_rate_tidy_data_both_sex['age'] != 'all_age' )]\n",
    "\n",
    "# ## Get the countries names of top 5 highest suicide rate\n",
    "top_5_country_names = top_5_suicide_rate_bothsex['country'].to_list()\n",
    "\n",
    "# ## Filtering out Male/Female records belongs to the hightest countries.\n",
    "top5_suicide_rate = suicide_rate_separatesex[suicide_rate_separatesex['country'].isin(top_5_country_names)]\n",
    "top5_suicide_rate"
   ]
  },
  {
   "cell_type": "code",
   "execution_count": 10,
   "metadata": {},
   "outputs": [
    {
     "data": {
      "image/png": "[encoded data removed]",
      "text/plain": [
       "<Figure size 429.375x360 with 1 Axes>"
      ]
     },
     "metadata": {},
     "output_type": "display_data"
    }
   ],
   "source": [
    "# ========= Plotting =========\n",
    "\n",
    "sns.set_style(\"whitegrid\")\n",
    "gg = sns.catplot(data = top5_suicide_rate, kind=\"bar\", x=\"country\", y=\"suicide_rate\",hue=\"sex\", palette=\"husl\", alpha=.9, height=5, ci=None)\n",
    "gg.despine(left=True).set_ylabels(\"Suicide rate\")\n",
    "plt.title(\"Top 5 Countries with Highest Suicide Rate\")\n",
    "plt.show()"
   ]
  },
  {
   "cell_type": "code",
   "execution_count": null,
   "metadata": {},
   "outputs": [],
   "source": []
  }
 ],
 "metadata": {
  "kernelspec": {
   "display_name": "Python 3",
   "language": "python",
   "name": "python3"
  },
  "language_info": {
   "codemirror_mode": {
    "name": "ipython",
    "version": 3
   },
   "file_extension": ".py",
   "mimetype": "text/x-python",
   "name": "python",
   "nbconvert_exporter": "python",
   "pygments_lexer": "ipython3",
   "version": "3.6.9"
  }
 },
 "nbformat": 4,
 "nbformat_minor": 2
}
