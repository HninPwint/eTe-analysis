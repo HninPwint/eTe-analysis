{
 "cells": [
  {
   "cell_type": "markdown",
   "metadata": {},
   "source": [
    "# Male and Female Difference in Top Highest Suicide Rate Countries\n",
    "This code is to analyse the male and female comparison in top 5 countries with hight suicide rates\n",
    "\n",
    "catplot (for categorical data) from Seaborn library is used for visualisation "
   ]
  },
  {
   "cell_type": "code",
   "execution_count": 2,
   "metadata": {},
   "outputs": [],
   "source": [
    "# ========= Import the packages =========\n",
    "import os\n",
    "import pandas as pd\n",
    "import matplotlib.pyplot as plt\n",
    "import numpy as np\n",
    "import seaborn as sns\n",
    "import sys\n",
    "\n",
    "# Importing Customised Common Data Reader Class\n",
    "sys.path.append(os.path.abspath('..'))\n",
    "from common_lib.data_reader import SuicideDataReader, SuicideProcessedData"
   ]
  },
  {
   "cell_type": "code",
   "execution_count": 4,
   "metadata": {},
   "outputs": [
    {
     "name": "stdout",
     "output_type": "stream",
     "text": [
      "          country         sex   age_range  suicide_rate\n",
      "0     Afghanistan  Both sexes  unnamed: 0           0.0\n",
      "1     Afghanistan        Male  unnamed: 0           1.0\n",
      "2     Afghanistan      Female  unnamed: 0           2.0\n",
      "3         Albania  Both sexes  unnamed: 0           3.0\n",
      "4         Albania        Male  unnamed: 0           4.0\n",
      "...           ...         ...         ...           ...\n",
      "5485       Zambia        Male     all_age         343.6\n",
      "5486       Zambia      Female     all_age         102.1\n",
      "5487     Zimbabwe  Both sexes     all_age         406.7\n",
      "5488     Zimbabwe        Male     all_age         584.7\n",
      "5489     Zimbabwe      Female     all_age         275.6\n",
      "\n",
      "[5490 rows x 4 columns]\n"
     ]
    }
   ],
   "source": [
    "# ========= Getting Data =========\n",
    "\n",
    "# Use common Data Reader Class to load data\n",
    "data_reader = SuicideDataReader()\n",
    "\n",
    "# Load Suicide Rate data\n",
    "suicide_rate_data = data_reader.read_data(SuicideProcessedData.SUICIDE_RATES, tidy=True)\n",
    "#print(suicide_rate_data)"
   ]
  },
  {
   "cell_type": "code",
   "execution_count": 17,
   "metadata": {},
   "outputs": [
    {
     "name": "stdout",
     "output_type": "stream",
     "text": [
      "top5_suicide_rate             country     sex age_range  suicide_rate\n",
      "5059  Côte d'Ivoire    Male   all_age         541.2\n",
      "5060  Côte d'Ivoire  Female   all_age         193.8\n",
      "5221        Lesotho    Male   all_age         289.4\n",
      "5222        Lesotho  Female   all_age         568.2\n",
      "5299        Nigeria    Male   all_age         321.3\n"
     ]
    }
   ],
   "source": [
    "# ========= Prepare Data =========\n",
    "\n",
    "# Find Top 5 countries of highest suicide rate in 'all_age' and \"both sexes\"\n",
    "# And Male/ Female - Age distribution \n",
    "top_5_suicide_rate_bothsex = suicide_rate_data[(suicide_rate_data['sex'] == 'Both sexes' ) & (suicide_rate_data['age_range'] == 'all_age' )].nlargest(5, 'suicide_rate')\n",
    "#print(top_5_suicide_rate_bothsex)\n",
    "\n",
    "suicide_rate_separatesex = suicide_rate_data[(suicide_rate_data['sex'] != 'Both sexes') & (suicide_rate_data['age_range'] == 'all_age' )]\n",
    "#print(suicide_rate_separatesex)\n",
    "\n",
    "## Get the countries names of top 5 highest suicide rate\n",
    "top_5_country_names = top_5_suicide_rate_bothsex['country'].to_list()\n",
    "\n",
    "## Filtering out Male/Female records belongs to the hightest countries.\n",
    "top5_suicide_rate = suicide_rate_separatesex[suicide_rate_separatesex['country'].isin(top_5_country_names)]\n",
    "print(\"top5_suicide_rate\",top5_suicide_rate.head())"
   ]
  },
  {
   "cell_type": "code",
   "execution_count": 14,
   "metadata": {},
   "outputs": [
    {
     "data": {
      "image/png": "[encoded data removed]",
      "text/plain": [
       "<Figure size 429.375x360 with 1 Axes>"
      ]
     },
     "metadata": {},
     "output_type": "display_data"
    }
   ],
   "source": [
    "# ========= Plotting =========\n",
    "\n",
    "sns.set_style(\"whitegrid\")\n",
    "gg = sns.catplot(data = top5_suicide_rate, kind=\"bar\", x=\"country\", y=\"suicide_rate\",hue=\"sex\", palette=\"husl\", alpha=.9, height=5, ci=None)\n",
    "gg.despine(left=True).set_ylabels(\"Suicide rate\")\n",
    "plt.title(\"Top 5 Countries with Highest Suicide Rate\")\n",
    "plt.show()"
   ]
  },
  {
   "cell_type": "code",
   "execution_count": null,
   "metadata": {},
   "outputs": [],
   "source": []
  }
 ],
 "metadata": {
  "kernelspec": {
   "display_name": "Python 3",
   "language": "python",
   "name": "python3"
  },
  "language_info": {
   "codemirror_mode": {
    "name": "ipython",
    "version": 3
   },
   "file_extension": ".py",
   "mimetype": "text/x-python",
   "name": "python",
   "nbconvert_exporter": "python",
   "pygments_lexer": "ipython3",
   "version": "3.6.9"
  }
 },
 "nbformat": 4,
 "nbformat_minor": 2
}
